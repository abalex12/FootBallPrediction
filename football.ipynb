{
 "cells": [
  {
   "cell_type": "code",
   "execution_count": 32,
   "metadata": {},
   "outputs": [],
   "source": [
    "import pandas as pd\n",
    "import numpy as np\n",
    "from sklearn.model_selection import train_test_split\n",
    "from sklearn.preprocessing import LabelEncoder\n",
    "from sklearn.ensemble import RandomForestClassifier\n",
    "from sklearn.metrics import accuracy_score, log_loss, roc_auc_score\n",
    "\n"
   ]
  },
  {
   "cell_type": "code",
   "execution_count": 33,
   "metadata": {},
   "outputs": [],
   "source": [
    "\n",
    "def clean_data(df):\n",
    "    # Handle missing values\n",
    "    df = df.fillna(0)\n",
    "    \n",
    "    # Ensure numerical columns are of the right type\n",
    "    numerical_columns = ['FTHG', 'FTAG', 'HS', 'AS', 'HST', 'AST', 'HC', 'AC', 'HF', 'AF', 'HY', 'AY', 'HR', 'AR']\n",
    "    for col in numerical_columns:\n",
    "        df[col] = pd.to_numeric(df[col], errors='coerce').fillna(0)\n",
    "    \n",
    "    return df\n",
    "\n",
    "\n"
   ]
  },
  {
   "cell_type": "code",
   "execution_count": 34,
   "metadata": {},
   "outputs": [],
   "source": [
    "def load_and_preprocess_data(file_paths):\n",
    "   # Load all datasets\n",
    "    dataframes = [pd.read_csv(file_path) for file_path in file_paths]\n",
    "\n",
    "    # Combine all datasets\n",
    "    combined_data = pd.concat(dataframes, ignore_index=True)\n",
    "    combined_data = clean_data(combined_data)\n",
    "    \n",
    "    # Select relevant features for prediction\n",
    "    selected_features = ['FTHG', 'FTAG', 'HS', 'AS', 'HST', 'AST', 'HC', 'AC', 'HF', 'AF', 'HY', 'AY', 'HR', 'AR']\n",
    "    \n",
    "    # Create the target variable (match result)\n",
    "    # FTR (Full Time Result) is already in the dataset as 'H', 'D', or 'A'\n",
    "    \n",
    "    # Prepare features\n",
    "    X = combined_data[selected_features]\n",
    "    \n",
    "    # Prepare target\n",
    "    y = combined_data['FTR']\n",
    "    \n",
    "    # Encode the target variable\n",
    "    le = LabelEncoder()\n",
    "    y_encoded = le.fit_transform(y)\n",
    "    \n",
    "    return X, y_encoded, le.classes_\n"
   ]
  },
  {
   "cell_type": "code",
   "execution_count": null,
   "metadata": {},
   "outputs": [],
   "source": [
    "\n",
    "def train_model(X, y):\n",
    "    # Split the data\n",
    "    X_train, X_test, y_train, y_test = train_test_split(X, y, test_size=0.2, random_state=42)\n",
    "    \n",
    "    # Initialize and train the model\n",
    "    model = RandomForestClassifier(n_estimators=100, random_state=42)\n",
    "    model.fit(X_train, y_train)\n",
    "    \n",
    "    # Make predictions\n",
    "    y_pred = model.predict(X_test)\n",
    "    y_proba = model.predict_proba(X_test)\n",
    "    \n",
    "    return model, X_test, y_test, y_pred, y_proba"
   ]
  },
  {
   "cell_type": "code",
   "execution_count": null,
   "metadata": {},
   "outputs": [],
   "source": [
    "def evaluate_model(y_test, y_pred, y_proba):\n",
    "    accuracy = accuracy_score(y_test, y_pred)\n",
    "    log_loss_value = log_loss(y_test, y_proba)\n",
    "    roc_score = roc_auc_score(y_test, y_proba, multi_class='ovr')\n",
    "    \n",
    "    return accuracy, log_loss_value, roc_score\n"
   ]
  },
  {
   "cell_type": "code",
   "execution_count": null,
   "metadata": {},
   "outputs": [],
   "source": [
    "\n",
    "def get_feature_importance(model, feature_names):\n",
    "    importances = model.feature_importances_\n",
    "    feature_importance = pd.DataFrame({\n",
    "        'feature': feature_names,\n",
    "        'importance': importances\n",
    "    })\n",
    "    return feature_importance.sort_values('importance', ascending=False)\n",
    "\n"
   ]
  },
  {
   "cell_type": "code",
   "execution_count": null,
   "metadata": {},
   "outputs": [],
   "source": [
    "def main():\n",
    "    # Define file paths\n",
    "    file_paths = ['csv/2020-2021.csv', 'csv/2021-2022.csv', 'csv/final_dataset.csv']\n",
    "    \n",
    "    # Load and preprocess data\n",
    "    X, y, classes = load_and_preprocess_data(file_paths)\n",
    "    \n",
    "    # Train model\n",
    "    model, X_test, y_test, y_pred, y_proba = train_model(X, y)\n",
    "    \n",
    "    # Evaluate model\n",
    "    accuracy, log_loss_value, roc_score = evaluate_model(y_test, y_pred, y_proba)\n",
    "    \n",
    "    # Get feature importance\n",
    "    feature_importance = get_feature_importance(model, X.columns)\n",
    "    \n",
    "    # Print results\n",
    "    print(f\"Model Accuracy: {accuracy:.4f}\")\n",
    "    print(f\"Log Loss: {log_loss_value:.4f}\")\n",
    "    print(f\"ROC-AUC Score: {roc_score:.4f}\")\n",
    "    print(\"\\nTop 5 Most Important Features:\")\n",
    "    print(feature_importance.head())\n",
    "    \n",
    "    return model, classes\n"
   ]
  },
  {
   "cell_type": "code",
   "execution_count": 35,
   "metadata": {},
   "outputs": [
    {
     "name": "stdout",
     "output_type": "stream",
     "text": [
      "Model Accuracy: 0.9974\n",
      "Log Loss: 0.0278\n",
      "ROC-AUC Score: 1.0000\n",
      "\n",
      "Top 5 Most Important Features:\n",
      "  feature  importance\n",
      "0    FTHG    0.527675\n",
      "1    FTAG    0.338460\n",
      "9      AF    0.022121\n",
      "8      HF    0.021167\n",
      "5     AST    0.019101\n"
     ]
    }
   ],
   "source": [
    "\n",
    "if __name__ == \"__main__\":\n",
    "    model, classes = main()"
   ]
  }
 ],
 "metadata": {
  "kernelspec": {
   "display_name": "base",
   "language": "python",
   "name": "python3"
  },
  "language_info": {
   "codemirror_mode": {
    "name": "ipython",
    "version": 3
   },
   "file_extension": ".py",
   "mimetype": "text/x-python",
   "name": "python",
   "nbconvert_exporter": "python",
   "pygments_lexer": "ipython3",
   "version": "3.12.4"
  }
 },
 "nbformat": 4,
 "nbformat_minor": 2
}
